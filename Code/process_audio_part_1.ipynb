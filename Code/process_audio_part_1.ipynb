{
 "cells": [
  {
   "cell_type": "code",
   "execution_count": null,
   "id": "d163a22d",
   "metadata": {},
   "outputs": [],
   "source": [
    "# !pip install tensorflow-gpu==2.9.3\n",
    "# # !pip list | grep tensorflow\n",
    "# # !pip install tensorflow[and-cuda]\n",
    "# !pip install torch\n",
    "# !pip install nvidia-cudnn-cu11\n",
    "!pip list | grep cud"
   ]
  },
  {
   "cell_type": "code",
   "execution_count": null,
   "id": "c76d2c6a",
   "metadata": {},
   "outputs": [],
   "source": [
    "# # !pip uninstall kiwisolver matplotlib\n",
    "# # !pip install kiwisolver matplotlib\n",
    "# # !pip install tensorflow[and-cuda]==2.10\n",
    "# # !pip list | grep tensor\n",
    "# import tensorflow as tf\n",
    "# print(tf.config.list_physical_devices('GPU'))\n",
    "# # pip install "
   ]
  },
  {
   "cell_type": "code",
   "execution_count": null,
   "id": "e8229179",
   "metadata": {},
   "outputs": [],
   "source": [
    "### Libraries ###\n",
    "import os, sys, re, time, json, traceback, logging, datetime, gc, shutil, math, base64, pickle\n",
    "from datetime import datetime\n",
    "from pathlib import Path\n",
    "import numpy as np\n",
    "import torch\n",
    "# from numba import cuda\n",
    "from IPython.display import display, HTML\n",
    "display(HTML(\"<style>.container { width:80% !important; }</style>\"))\n",
    "\n",
    "### Audio Libraries ###\n",
    "from pydub import AudioSegment, effects\n",
    "# from pyannote.audio import Pipeline\n",
    "from spleeter.separator import Separator\n",
    "from spleeter.audio.adapter import AudioAdapter\n",
    "import soundfile as sf"
   ]
  },
  {
   "cell_type": "code",
   "execution_count": null,
   "id": "f57db005",
   "metadata": {},
   "outputs": [],
   "source": [
    "# print(torch.cuda.current_device())\n",
    "# print(torch.cuda.is_available())\n",
    "# print(torch.version.cuda)\n",
    "# print(torch.backends.cudnn.version())\n",
    "# import tensorflow as tf\n",
    "# print(\"Num GPUs Available: \", len(tf.config.list_physical_devices('GPU')))"
   ]
  },
  {
   "cell_type": "code",
   "execution_count": null,
   "id": "ce3a86d9",
   "metadata": {},
   "outputs": [],
   "source": [
    "### Path of Files ###\n",
    "input_video_filename_wo_ext = '1_min_video'\n",
    "input_video_filename = 'Videos_Exampels/'+ input_video_filename_wo_ext +'.mp4' # The video files should be on mp4 format\n",
    "output_video_path = 'Videos_Output/'"
   ]
  },
  {
   "cell_type": "code",
   "execution_count": null,
   "id": "bf55ab5c",
   "metadata": {},
   "outputs": [],
   "source": [
    "# Create a new directory of output of videos\n",
    "if not os.path.exists(output_video_path):\n",
    "    os.makedirs(output_video_path)\n",
    "\n",
    "# Create a new directory for processed audio if it does not exist\n",
    "dir_output_audio = output_video_path + input_video_filename_wo_ext +'/Audio/'\n",
    "if not os.path.exists(dir_output_audio):\n",
    "    os.makedirs(dir_output_audio)\n",
    "dir_output_audio_step1 = output_video_path + input_video_filename_wo_ext +'/Audio/Step1_ProcessAudio/'\n",
    "if not os.path.exists(dir_output_audio_step1):\n",
    "    os.makedirs(dir_output_audio_step1)\n",
    "dir_output_audio_step2 = output_video_path + input_video_filename_wo_ext +'/Audio/Step2_Spleeter/'\n",
    "if not os.path.exists(dir_output_audio_step2):\n",
    "    os.makedirs(dir_output_audio_step2)\n",
    "dir_output_audio_step3 = output_video_path + input_video_filename_wo_ext +'/Audio/Step3_Segments/'\n",
    "if not os.path.exists(dir_output_audio_step3):\n",
    "    os.makedirs(dir_output_audio_step3)\n",
    "dir_output_audio_step4 = output_video_path + input_video_filename_wo_ext +'/Audio/Step4_Embeddings/'\n",
    "if not os.path.exists(dir_output_audio_step4):\n",
    "    os.makedirs(dir_output_audio_step4)\n",
    "dir_output_audio_step5 = output_video_path + input_video_filename_wo_ext +'/Audio/Step5_Clusters/'\n",
    "if not os.path.exists(dir_output_audio_step5):\n",
    "    os.makedirs(dir_output_audio_step5)\n",
    "    \n",
    "# Create a new directory for processed images if it does not exist\n",
    "dir_output_images = output_video_path + input_video_filename_wo_ext +'/Images/'\n",
    "if not os.path.exists(dir_output_images):\n",
    "    os.makedirs(dir_output_images)\n",
    "dir_output_images_step1 = output_video_path + input_video_filename_wo_ext +'/Images/Step1_Images/'\n",
    "if not os.path.exists(dir_output_images_step1):\n",
    "    os.makedirs(dir_output_images_step1)\n",
    "dir_output_images_step2 = output_video_path + input_video_filename_wo_ext +'/Images/Step2_Faces/'\n",
    "if not os.path.exists(dir_output_images_step2):\n",
    "    os.makedirs(dir_output_images_step2)\n",
    "dir_output_images_step3 = output_video_path + input_video_filename_wo_ext +'/Images/Step3_Embeddings/'\n",
    "if not os.path.exists(dir_output_images_step3):\n",
    "    os.makedirs(dir_output_images_step3)\n",
    "dir_output_images_step4 = output_video_path + input_video_filename_wo_ext +'/Images/Step4_Clusters/'\n",
    "if not os.path.exists(dir_output_images_step4):\n",
    "    os.makedirs(dir_output_images_step4)\n",
    "\n",
    "# Create a new directory for processed text if it does not exist\n",
    "dir_output_text = output_video_path + input_video_filename_wo_ext +'/Text/'\n",
    "if not os.path.exists(dir_output_text):\n",
    "    os.makedirs(dir_output_text)\n",
    "dir_output_text_seg = output_video_path + input_video_filename_wo_ext +'/Text/Segments/'\n",
    "if not os.path.exists(dir_output_text_seg):\n",
    "    os.makedirs(dir_output_text_seg)"
   ]
  },
  {
   "cell_type": "code",
   "execution_count": null,
   "id": "36ea9791",
   "metadata": {},
   "outputs": [],
   "source": [
    "#####################################################\n",
    "# Video to Audio\n",
    "#####################################################"
   ]
  },
  {
   "cell_type": "code",
   "execution_count": null,
   "id": "debbb0c8",
   "metadata": {},
   "outputs": [],
   "source": [
    "%%timeit\n",
    "### Process Audio ###\n",
    "# Read audio file\n",
    "sound = AudioSegment.from_file(input_video_filename, 'mp4')\n",
    "\n",
    "# Stereo to Mono\n",
    "sound = sound.set_channels(1)\n",
    "\n",
    "# Sample Rate (must be between 8 kHz and 48 kHz inclusive)\n",
    "if sound.frame_rate > 48000:\n",
    "    sound = sound.set_frame_rate(48000)\n",
    "elif sound.frame_rate < 8000:\n",
    "    sound = sound.set_frame_rate(8000)\n",
    "\n",
    "# Normalize Sound\n",
    "sound = effects.normalize(sound)\n",
    "\n",
    "# Export processed audio file as Flac\n",
    "sound.export(dir_output_audio_step1 + 'audio.flac', format='flac')\n",
    "\n",
    "print('Finish.')"
   ]
  },
  {
   "cell_type": "code",
   "execution_count": null,
   "id": "2dea7dc9",
   "metadata": {},
   "outputs": [],
   "source": [
    "### Separate background music from vocals ###\n",
    "separator = Separator('spleeter:2stems')"
   ]
  },
  {
   "cell_type": "code",
   "execution_count": null,
   "id": "269056c7",
   "metadata": {},
   "outputs": [],
   "source": [
    "%%timeit\n",
    "### Separate background music from vocals ###\n",
    "# Load flac using adapter\n",
    "sound = AudioSegment.from_file(dir_output_audio_step1 + 'audio.flac')\n",
    "sr = sound.frame_rate\n",
    "audio_loader = AudioAdapter.default()\n",
    "signal, _ = audio_loader.load(dir_output_audio_step1 + 'audio.flac', sample_rate=sr)\n",
    "\n",
    "pred = separator.separate(signal)\n",
    "\n",
    "# Export processed audio file as Flac\n",
    "sf.write(dir_output_audio_step2 + 'audio.flac', pred[\"vocals\"], sr)\n",
    "\n",
    "# separator = None\n",
    "# gc.collect()\n",
    "# torch.cuda.empty_cache()\n",
    "# device = cuda.get_current_device()\n",
    "# device.reset()\n",
    "print('Finish.')"
   ]
  },
  {
   "cell_type": "code",
   "execution_count": null,
   "id": "adbb8d78",
   "metadata": {},
   "outputs": [],
   "source": []
  }
 ],
 "metadata": {
  "kernelspec": {
   "display_name": "Python 3 (ipykernel)",
   "language": "python",
   "name": "python3"
  },
  "language_info": {
   "codemirror_mode": {
    "name": "ipython",
    "version": 3
   },
   "file_extension": ".py",
   "mimetype": "text/x-python",
   "name": "python",
   "nbconvert_exporter": "python",
   "pygments_lexer": "ipython3",
   "version": "3.9.15"
  }
 },
 "nbformat": 4,
 "nbformat_minor": 5
}
