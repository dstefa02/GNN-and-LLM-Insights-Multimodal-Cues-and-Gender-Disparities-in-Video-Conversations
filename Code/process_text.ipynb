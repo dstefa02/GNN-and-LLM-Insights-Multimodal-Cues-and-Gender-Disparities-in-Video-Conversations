{
 "cells": [
  {
   "cell_type": "code",
   "execution_count": null,
   "id": "e8229179",
   "metadata": {},
   "outputs": [],
   "source": [
    "### Libraries ###\n",
    "import os, sys, re, time, json, traceback, logging, datetime, gc, shutil, math, base64, pickle\n",
    "from datetime import datetime\n",
    "from pathlib import Path\n",
    "import numpy as np\n",
    "import torch\n",
    "# from numba import cuda\n",
    "from IPython.display import display, HTML\n",
    "display(HTML(\"<style>.container { width:80% !important; }</style>\"))\n",
    "\n",
    "### Text Libraries ###\n",
    "import whisper"
   ]
  },
  {
   "cell_type": "code",
   "execution_count": null,
   "id": "f57db005",
   "metadata": {},
   "outputs": [],
   "source": [
    "print(torch.cuda.current_device())\n",
    "print(torch.cuda.is_available())\n",
    "print(torch.version.cuda)\n",
    "print(torch.backends.cudnn.version())\n",
    "# import tensorflow as tf\n",
    "# print(\"Num GPUs Available: \", len(tf.config.list_physical_devices('GPU')))"
   ]
  },
  {
   "cell_type": "code",
   "execution_count": null,
   "id": "ce3a86d9",
   "metadata": {},
   "outputs": [],
   "source": [
    "### Path of Files ###\n",
    "input_video_filename_wo_ext = '1_min_video'\n",
    "input_video_filename = 'Videos_Examples/'+ input_video_filename_wo_ext +'.mp4' # The video files should be on mp4 format\n",
    "output_video_path = 'Videos_Output/'"
   ]
  },
  {
   "cell_type": "code",
   "execution_count": null,
   "id": "bf55ab5c",
   "metadata": {},
   "outputs": [],
   "source": [
    "# Create a new directory of output of videos\n",
    "if not os.path.exists(output_video_path):\n",
    "    os.makedirs(output_video_path)\n",
    "\n",
    "# Create a new directory for processed audio if it does not exist\n",
    "dir_output_audio = output_video_path + input_video_filename_wo_ext +'/Audio/'\n",
    "if not os.path.exists(dir_output_audio):\n",
    "    os.makedirs(dir_output_audio)\n",
    "dir_output_audio_step1 = output_video_path + input_video_filename_wo_ext +'/Audio/Step1_ProcessAudio/'\n",
    "if not os.path.exists(dir_output_audio_step1):\n",
    "    os.makedirs(dir_output_audio_step1)\n",
    "dir_output_audio_step2 = output_video_path + input_video_filename_wo_ext +'/Audio/Step2_Spleeter/'\n",
    "if not os.path.exists(dir_output_audio_step2):\n",
    "    os.makedirs(dir_output_audio_step2)\n",
    "dir_output_audio_step3 = output_video_path + input_video_filename_wo_ext +'/Audio/Step3_Segments/'\n",
    "if not os.path.exists(dir_output_audio_step3):\n",
    "    os.makedirs(dir_output_audio_step3)\n",
    "dir_output_audio_step4 = output_video_path + input_video_filename_wo_ext +'/Audio/Step4_Embeddings/'\n",
    "if not os.path.exists(dir_output_audio_step4):\n",
    "    os.makedirs(dir_output_audio_step4)\n",
    "dir_output_audio_step5 = output_video_path + input_video_filename_wo_ext +'/Audio/Step5_Clusters/'\n",
    "if not os.path.exists(dir_output_audio_step5):\n",
    "    os.makedirs(dir_output_audio_step5)\n",
    "    \n",
    "# Create a new directory for processed images if it does not exist\n",
    "dir_output_images = output_video_path + input_video_filename_wo_ext +'/Images/'\n",
    "if not os.path.exists(dir_output_images):\n",
    "    os.makedirs(dir_output_images)\n",
    "dir_output_images_step1 = output_video_path + input_video_filename_wo_ext +'/Images/Step1_Images/'\n",
    "if not os.path.exists(dir_output_images_step1):\n",
    "    os.makedirs(dir_output_images_step1)\n",
    "dir_output_images_step2 = output_video_path + input_video_filename_wo_ext +'/Images/Step2_Faces/'\n",
    "if not os.path.exists(dir_output_images_step2):\n",
    "    os.makedirs(dir_output_images_step2)\n",
    "dir_output_images_step3 = output_video_path + input_video_filename_wo_ext +'/Images/Step3_Embeddings/'\n",
    "if not os.path.exists(dir_output_images_step3):\n",
    "    os.makedirs(dir_output_images_step3)\n",
    "dir_output_images_step4 = output_video_path + input_video_filename_wo_ext +'/Images/Step4_Clusters/'\n",
    "if not os.path.exists(dir_output_images_step4):\n",
    "    os.makedirs(dir_output_images_step4)\n",
    "\n",
    "# Create a new directory for processed text if it does not exist\n",
    "dir_output_text = output_video_path + input_video_filename_wo_ext +'/Text/'\n",
    "if not os.path.exists(dir_output_text):\n",
    "    os.makedirs(dir_output_text)\n",
    "dir_output_text_seg = output_video_path + input_video_filename_wo_ext +'/Text/Segments/'\n",
    "if not os.path.exists(dir_output_text_seg):\n",
    "    os.makedirs(dir_output_text_seg)"
   ]
  },
  {
   "cell_type": "code",
   "execution_count": null,
   "id": "f21b574e",
   "metadata": {},
   "outputs": [],
   "source": [
    "#####################################################\n",
    "# Speech to Text (STT)\n",
    "#####################################################"
   ]
  },
  {
   "cell_type": "code",
   "execution_count": null,
   "id": "28d51514",
   "metadata": {},
   "outputs": [],
   "source": [
    "# Load Whisper OpenAI model\n",
    "model = whisper.load_model('large-v2') # large-v2\n",
    "# model = whisper.load_model('medium.en')"
   ]
  },
  {
   "cell_type": "code",
   "execution_count": null,
   "id": "56e54c4d",
   "metadata": {},
   "outputs": [],
   "source": [
    "%%timeit\n",
    "### Audio to Text ###\n",
    "# Load Whisper OpenAI model\n",
    "# model = whisper.load_model('medium.en') # large-v2\n",
    "\n",
    "for filename in os.listdir(dir_output_audio_step3): #    dir_output_audio_step3=segments\n",
    "    file = os.fsdecode(dir_output_audio_step3+filename)\n",
    "    print(filename)\n",
    "\n",
    "    # Transcribe Audio file (STT)\n",
    "    result = model.transcribe(file)\n",
    "\n",
    "    output_f = open(dir_output_text+filename.replace('flac', 'txt'), 'w')\n",
    "    output_f.write(result['text'])\n",
    "    output_f.close()\n",
    "\n",
    "# model = None\n",
    "torch.cuda.empty_cache()\n",
    "gc.collect()\n",
    "# device = cuda.get_current_device()\n",
    "# device.reset()\n",
    "print('Finish.')"
   ]
  },
  {
   "cell_type": "code",
   "execution_count": null,
   "id": "0f203f54",
   "metadata": {},
   "outputs": [],
   "source": []
  }
 ],
 "metadata": {
  "kernelspec": {
   "display_name": "Python 3 (ipykernel)",
   "language": "python",
   "name": "python3"
  },
  "language_info": {
   "codemirror_mode": {
    "name": "ipython",
    "version": 3
   },
   "file_extension": ".py",
   "mimetype": "text/x-python",
   "name": "python",
   "nbconvert_exporter": "python",
   "pygments_lexer": "ipython3",
   "version": "3.9.15"
  }
 },
 "nbformat": 4,
 "nbformat_minor": 5
}
